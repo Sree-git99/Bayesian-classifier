{
  "nbformat": 4,
  "nbformat_minor": 0,
  "metadata": {
    "colab": {
      "provenance": [],
      "authorship_tag": "ABX9TyMpze/f8OQtv4emBrfAe7v8",
      "include_colab_link": true
    },
    "kernelspec": {
      "name": "python3",
      "display_name": "Python 3"
    },
    "language_info": {
      "name": "python"
    }
  },
  "cells": [
    {
      "cell_type": "markdown",
      "metadata": {
        "id": "view-in-github",
        "colab_type": "text"
      },
      "source": [
        "<a href=\"https://colab.research.google.com/github/Sree-git99/Bayesian-classifier/blob/main/Bayesian_classifier.ipynb\" target=\"_parent\"><img src=\"https://colab.research.google.com/assets/colab-badge.svg\" alt=\"Open In Colab\"/></a>"
      ]
    },
    {
      "cell_type": "code",
      "execution_count": 1,
      "metadata": {
        "colab": {
          "base_uri": "https://localhost:8080/"
        },
        "id": "PBkFtKEn2PGK",
        "outputId": "fde25991-39fe-44d7-dd75-e515912a83be"
      },
      "outputs": [
        {
          "output_type": "stream",
          "name": "stdout",
          "text": [
            "Total Instances of Dataset:  18\n"
          ]
        }
      ],
      "source": [
        "import pandas as pd\n",
        "msg = pd.read_csv('document.csv', names=['message', 'label'])\n",
        "print(\"Total Instances of Dataset: \", msg.shape[0])\n",
        "msg['labelnum'] = msg.label.map({'pos': 1, 'neg': 0})"
      ]
    },
    {
      "cell_type": "code",
      "source": [
        "X = msg.message\n",
        "y = msg.labelnum\n",
        "from sklearn.model_selection import train_test_split\n",
        "Xtrain, Xtest, ytrain, ytest = train_test_split(X, y)\n",
        "from sklearn.feature_extraction.text import CountVectorizer\n"
      ],
      "metadata": {
        "id": "4Tt0RwQb7FM0"
      },
      "execution_count": 2,
      "outputs": []
    },
    {
      "cell_type": "code",
      "source": [
        "count_v = CountVectorizer()\n",
        "Xtrain_dm = count_v.fit_transform(Xtrain)\n",
        "Xtest_dm = count_v.transform(Xtest)\n"
      ],
      "metadata": {
        "id": "QCBVY1oO7Swj"
      },
      "execution_count": 3,
      "outputs": []
    },
    {
      "cell_type": "code",
      "source": [
        "df = pd.DataFrame(Xtrain_dm.toarray(),columns=count_v.get_feature_names_out())\n",
        "print(df[0:5])"
      ],
      "metadata": {
        "colab": {
          "base_uri": "https://localhost:8080/"
        },
        "id": "ruSQw8vh7Wdz",
        "outputId": "2ad6ac29-90e9-4ef4-aecd-3124a8f8a01c"
      },
      "execution_count": 5,
      "outputs": [
        {
          "output_type": "stream",
          "name": "stdout",
          "text": [
            "   am  amazing  an  awesome  bad  best  boss  can  deal  do  ...  tired  to  \\\n",
            "0   0        0   0        0    0     1     0    0     0   0  ...      0   0   \n",
            "1   0        0   0        0    0     0     0    1     1   0  ...      0   0   \n",
            "2   0        0   0        0    0     0     1    0     0   0  ...      0   0   \n",
            "3   0        0   0        0    1     0     0    0     0   0  ...      0   1   \n",
            "4   0        0   0        0    0     0     0    0     0   1  ...      0   0   \n",
            "\n",
            "   today  tomorrow  we  went  what  will  with  work  \n",
            "0      0         0   0     0     0     0     0     1  \n",
            "1      0         0   0     0     0     0     1     0  \n",
            "2      0         0   0     0     0     0     0     0  \n",
            "3      0         0   0     0     0     0     0     0  \n",
            "4      0         0   0     0     0     0     0     0  \n",
            "\n",
            "[5 rows x 45 columns]\n"
          ]
        }
      ]
    },
    {
      "cell_type": "code",
      "source": [
        "from sklearn.naive_bayes import MultinomialNB\n",
        "clf = MultinomialNB()\n",
        "clf.fit(Xtrain_dm, ytrain)\n",
        "pred = clf.predict(Xtest_dm)\n"
      ],
      "metadata": {
        "id": "WSAqNWGw7w8c"
      },
      "execution_count": 6,
      "outputs": []
    },
    {
      "cell_type": "code",
      "source": [
        "for doc, p in zip(Xtrain, pred):\n",
        "    p = 'pos' if p == 1 else 'neg'\n",
        "    print(\"%s -> %s\" % (doc, p))\n"
      ],
      "metadata": {
        "colab": {
          "base_uri": "https://localhost:8080/"
        },
        "id": "5Wie1kUe72Ma",
        "outputId": "2c632d16-da49-4560-ec28-9f988fdc0eeb"
      },
      "execution_count": 7,
      "outputs": [
        {
          "output_type": "stream",
          "name": "stdout",
          "text": [
            "This is my best work -> pos\n",
            "I can't deal with this -> neg\n",
            "My boss is horrible -> pos\n",
            "That is a bad locality to stay -> neg\n",
            "I do not like the taste of this juice -> neg\n"
          ]
        }
      ]
    },
    {
      "cell_type": "code",
      "source": [
        "from sklearn.metrics import accuracy_score, confusion_matrix, precision_score, recall_score\n",
        "print('Accuracy Metrics: \\n')\n",
        "print('Accuracy: ', accuracy_score(ytest, pred))\n",
        "print('Recall: ', recall_score(ytest, pred))\n",
        "print('Precision: ', precision_score(ytest, pred))\n",
        "print('Confusion Matrix: \\n', confusion_matrix(ytest, pred))"
      ],
      "metadata": {
        "colab": {
          "base_uri": "https://localhost:8080/"
        },
        "id": "jv1zRnex796z",
        "outputId": "abcfe39c-fdad-4343-db2a-d526a17e3665"
      },
      "execution_count": 8,
      "outputs": [
        {
          "output_type": "stream",
          "name": "stdout",
          "text": [
            "Accuracy Metrics: \n",
            "\n",
            "Accuracy:  0.8\n",
            "Recall:  0.6666666666666666\n",
            "Precision:  1.0\n",
            "Confusion Matrix: \n",
            " [[2 0]\n",
            " [1 2]]\n"
          ]
        }
      ]
    }
  ]
}